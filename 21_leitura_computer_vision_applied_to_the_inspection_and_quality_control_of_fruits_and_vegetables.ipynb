{
  "nbformat": 4,
  "nbformat_minor": 0,
  "metadata": {
    "colab": {
      "provenance": []
    },
    "kernelspec": {
      "name": "python3",
      "display_name": "Python 3"
    },
    "language_info": {
      "name": "python"
    }
  },
  "cells": [
    {
      "cell_type": "markdown",
      "source": [
        "# Proposta da tarefa\n",
        "\n",
        "Análise de um projeto real de visão computacional através de um artigo sobre inspeção de qualidade em frutas e verduras.\n",
        "\n",
        "\n",
        "Artigo: Saldana, E., Siche, R., Luján, M., & Quevedo, R. (2013). Revisão: visão computacional aplicada à inspeção e ao controle da qualidade de frutas e verduras.\n"
      ],
      "metadata": {
        "id": "KKACTkyclHB8"
      }
    },
    {
      "cell_type": "markdown",
      "source": [
        "\n",
        "\n",
        "# Resumo\n",
        "\n",
        "\n",
        "O artigo analisado nessa tarefa trata-se de um revisão da aplicação de visão computacional em inspeção de frutas e verduras, onde é estudado desde a classificação da fruta e sua qualidade, até como armazená-la, provando que o sistema proposto substitui e melhora processos manuais.\n",
        "\n",
        "\n",
        "# Introdução\n",
        "\n",
        "\n",
        "O campo de visão computacional tem crescido nos últimos anos justamente por sua capacidade de analisar bem as características e atributos de um problema, o que é o caso da inspeção de frutas e vegetais, onde são explorados aspectos como maturidade, tamanho, peso, forma, cor, presença de sujeira e doenças, presença ou ausência de caule, presença de sementes, teor de açúcar, etc.\n",
        "\n",
        "\n",
        "Até tempos recentes, esse processo era feito apenas por humanos, trazendo possíveis erros por questões fisiológicas como fadiga e hábitos, além de mostrar certa inconsistência quando diferentes pessoas analisavam uma mesma fruta. Com novas regulações mais restritas sobre as qualidades dos alimentos, o uso da visão computacional se torna uma possibilidade para melhorar esse cenário.\n",
        "\n",
        "\n",
        "No entanto, duas frutas de uma mesma árvore podem apresentar uma aparência com cor, tamanho e formas diferentes uma da outra. Além disso, é importante detectar caules, folhas, sujeira ou qualquer material estranho\n",
        "material nas linhas de controle de qualidade, e não confundir estes\n",
        "com outras manchas da própria fruta. Portanto, diferentes de outros campos industriais, esse requer um nível extra de detalhes.\n",
        "\n",
        "\n",
        "# Suporte teórico\n",
        "\n",
        "\n",
        "Importante ressaltar que, devido às dificuldades mostradas anteriormente pelo artigo, e por necessitar de alta velocidade nas classificações, esse tipo de solução se baseia muito no hardware em que está instalada, dependendo bastante da luz e da qualidade da imagem do equipamento.\n",
        "\n",
        "\n",
        "## Luz\n",
        "\n",
        "\n",
        "Mais em específico, a luz pode ser montada de diferentes formas no cenários para que melhore a performance do problema. Sendo assim, para que o melhor resultado seja atingido, deve-se considerar os aspectos geométricos do problema e distribuída a luz de forma que faça com que ela fique o mais uniforme possível, não exagerando na claridade e nem nas sombras em nenhum canto das imagens.\n",
        "\n",
        "\n",
        "Em relação a outros trabalhos que envolvem outros tipos de objetos, a montagem da luz é sempre considerada com base na geometria e transparência do objeto, como mostrado em alguns casos no artigo.\n",
        "\n",
        "\n",
        "## Aquisição da imagem\n",
        "\n",
        "\n",
        "Assim como a luz, a variar o objetivo e natureza do sistema, deve ser feita uma escolha de tecnologia que melhor otimize os resultados. No caso das câmeras, diferentes possibilidades são mostradas, como CCD-based, CMOS-based, Multispectral e hyperspectral.\n",
        "\n",
        "\n",
        "## Processamento de imagem\n",
        "\n",
        "\n",
        "O capítulo discute diversas técnicas utilizadas para processar as imagens adquiridas, abrangendo transformações de espaço de cores, que são usadas para converter imagens de um espaço de cores para outro, e segmentação de imagens, que é usada para separar uma imagem em diferentes regiões ou objetos. O capítulo também discute a extração de características, que envolve identificar e extrair características relevantes de uma imagem, e a classificação, que envolve atribuir um rótulo ou categoria a uma imagem com base em suas características\n",
        "\n",
        "\n",
        "# Aplicações na inspeção e controle de características de qualidade\n",
        "\n",
        "\n",
        "## Cor\n",
        "\n",
        "\n",
        "Discute os desafios associados à avaliação da cor devido às variações naturais de cor e textura após a colheita, bem como a necessidade de diferenciar entre variações naturais e defeitos. Além disso, destaca o uso de diferentes técnicas de imagem, incluindo espectro visível, espectro de fluorescência induzida por ultravioleta (UVIF) e espectro de infravermelho próximo (NIR), para análise de cores.\n",
        "\n",
        "\n",
        "## Tamanho e Volume\n",
        "\n",
        "\n",
        "Mostra os desafios associados à medição de formas irregulares e a influência da orientação do objeto em relação à câmera na estimativa do tamanho. Além disso, inclui a utilização de múltiplas imagens de diferentes ângulos para obter medições precisas.\n",
        "\n",
        "\n",
        "## Forma\n",
        "\n",
        "\n",
        "Destaca a necessidade de identificar deformidades ou formatos irregulares que possam impactar a comercialização dos produtos. Além disso, discute a natureza subjetiva da medição da forma e como ela pode ser estimada a partir de outras características, como tamanho e volume. Menciona também o uso de visão computacional para categorizar frutas e vegetais com base em seu formato.\n",
        "\n",
        "\n",
        "## Textura\n",
        "\n",
        "\n",
        "Enfatiza os desafios associados à essa análise devido ao alto índice de variabilidade de textura e cor entre frutos da mesma variedade. O subcapítulo também menciona o uso da Análise de Componentes Principais (PCA) para combinar informações de cor e textura para a detecção de defeitos de casca em frutas. Além disso, discute o uso de algoritmos de segmentação baseados em textura que levam em consideração as relações espaciais entre pixels vizinhos para caracterizar diferentes regiões de uma imagem e detectar alterações entre elas.\n",
        "\n",
        "\n",
        "# Conclusão\n",
        "\n",
        "\n",
        "Ele destaca a importância de medir com precisão cor, tamanho, volume e textura para avaliação de qualidade e os desafios associados a essas medições. Além disso, ressalta a necessidade de medição precisa da forma para identificar deformidades ou formas irregulares que possam impactar a comercialização dos produtos. Além disso, enfatiza a necessidade de mais pesquisas para enfrentar os desafios associados à análise de textura e à alta taxa de variabilidade de textura e cor entre frutos da mesma variedade. No geral, a seção conclui que a visão computacional tem o potencial de melhorar significativamente a eficiência e a precisão dos processos de inspeção e controlo de qualidade na indústria de frutas e vegetais.\n",
        "\n",
        "\n",
        "\n"
      ],
      "metadata": {
        "id": "lHYRBvHf2T96"
      }
    }
  ]
}