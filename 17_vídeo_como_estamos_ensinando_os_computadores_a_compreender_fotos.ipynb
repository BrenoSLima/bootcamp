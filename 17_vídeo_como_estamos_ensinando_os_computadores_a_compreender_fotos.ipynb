{
  "nbformat": 4,
  "nbformat_minor": 0,
  "metadata": {
    "colab": {
      "provenance": []
    },
    "kernelspec": {
      "name": "python3",
      "display_name": "Python 3"
    },
    "language_info": {
      "name": "python"
    }
  },
  "cells": [
    {
      "cell_type": "markdown",
      "source": [
        "# Proposta da tarefa\n",
        "\n",
        "Palestra de Fei-Fei Li sobre desafios e objetivos futuros do campo da visão computacional.\n",
        "\n",
        "\n",
        "Vídeo: [Fei-Fei Li: Como estamos ensinando os computadores a compreender fotos](https://youtu.be/40riCqvRoMs?si=rQhJSqpLbPZfD-4Y)\n",
        "\n"
      ],
      "metadata": {
        "id": "yCqfPUGyjbIt"
      }
    },
    {
      "cell_type": "markdown",
      "source": [
        "\n",
        "# Como estamos ensinando os computadores a compreender fotos\n",
        "\n",
        "\n",
        "Nossa sociedade está mais tecnológica do que nunca, e ainda assim uma criança de três anos está muito à frente de qualquer modelo de visão computacional na hora de identificar objetos e items apenas olhando uma imagem.\n",
        "\n",
        "\n",
        "Uma imagem para um computador não é nada mais que valores numéricos, o que falta significado e sentido. O campo de visão computacional e machine learning busca identificar objetos e suas relações. Através de termos matemáticos, o aprendizado de objetos é feito aprendendo seus padrões e formas. Por exemplo, um gato possui orelhas pontudas e um rosto redondo. No entanto, gatos podem aparecer de todas as formas diferentes, até mesmo parcialmente escondidos. Sendo assim, existe uma variância infinita para se identificar um gato.\n",
        "\n",
        "\n",
        "Uma descoberta feita pela Fei-Fei Li, foi pensar que a criança de três anos está sempre aprendendo, com milhares de imagens a todo momento enquanto vive. Isso a inspirou a montar um dataset com muitas mais imagens do que era comum na época, chamado imagenet e possuindo 15 milhões de imagens. Um algoritmo de machine learning em específico apresentou a maior melhora com o aumento do volume de dados, sendo esse algoritmo a rede neural convolucional. Com ela, objetos de diferentes tipos foram encontrados em imagens, apresentando uma evolução muito grande.\n",
        "\n",
        "\n",
        "Ao chegar nesse nível de performance, o próximo objetivo se torna identificar contextos descritos em frases, como por exemplo, ao invés de notar apenas um gato na foto, pode dizer em uma frase que o gato está em cima de uma cama.\n",
        "\n",
        "\n",
        "Essa tarefa também foi abrangida por Fei-Fei, que conseguiu fazer com que o modelo fosse capaz de produzir frases explicando imagens, apesar de apresentar erros em algumas delas. Essa pesquisa representa o conhecimento de uma criança de 0 a 3 anos, e os próximos objetivos estão presentes em abranger conhecimentos de pessoas de até 15 anos.\n",
        "\n",
        "\n",
        "\n",
        "\n",
        "\n",
        "\n",
        "\n"
      ],
      "metadata": {
        "id": "KLJNXXoWjvXd"
      }
    }
  ]
}