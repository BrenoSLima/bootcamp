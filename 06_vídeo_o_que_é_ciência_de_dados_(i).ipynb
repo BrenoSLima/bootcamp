{
  "nbformat": 4,
  "nbformat_minor": 0,
  "metadata": {
    "colab": {
      "provenance": []
    },
    "kernelspec": {
      "name": "python3",
      "display_name": "Python 3"
    },
    "language_info": {
      "name": "python"
    }
  },
  "cells": [
    {
      "cell_type": "markdown",
      "source": [
        "# Proposta da tarefa\n",
        "\n",
        "O que é ciência de dados e o que significa trabalhar com ela? O texto abaixo discute isso de forma abrangente, com base em dois vídeos.\n",
        "\n",
        "\n",
        "Video 1: [O que é ciência de dados | Nerdologia Tech](https://youtu.be/ykSILAQQu6o?si=PsVYRlSAPT6FcyNN) (9:29 minutos)\n",
        "\n",
        "Video 2: [O que realmente é Ciência de Dados? Explicado por um Cientista de Dados](https://youtu.be/xC-c7E5PK0Y?si=nICHK2SketGh6uHN) (11:08 minutos)\n"
      ],
      "metadata": {
        "id": "Ah5EQlHHeCYr"
      }
    },
    {
      "cell_type": "markdown",
      "source": [
        "\n",
        "\n",
        "# O que é ciência de dados | Nerdologia Tech\n",
        "\n",
        "\n",
        "De forma breve, esse ramo explora o uso dos dados para 'prever o futuro'. Hoje em dia é produzido um volume cada vez maior de dados, e com as máquinas atuais, existe a possibilidade de analisar esses dados para extrair conhecimento e lições, essa sendo a área de data science.\n",
        "\n",
        "\n",
        "O trabalho de um cientista dessa área vai além dos dados, há também a necessidade de se saber fazer as perguntas certas. No vídeo é citado o exemplo dos aviões de Wald, os quais foram analisados para fabricação de revestimento contra balas na guerra. Wald conseguiu perceber que os aviões baleados analisados, só conseguiram ser analisados pois retornaram a base, e o revestimento deveria ser feito nos pontos onde não havia perfurações por tiros, pois aviões que foram atingidos nessas regiões caíram e não conseguiram ser analisados.\n",
        "\n",
        "\n",
        "No grande volume de dados atuais, uma forma de analisá-los e conseguir extrair informações é a estatística, servindo como uma ferramenta matemática que explica e demonstra como muitas coisas acontecem. Além disso, nesses dados é possível encontrar padrões que possibilitem previsões futuras, trabalho esse chamado de machine learning.\n",
        "\n",
        "\n",
        "Os dados carregam um grande importância ao longo do processo de treinamento de um modelo, eles precisam primeiro estarem limpos, ou sejam, sem 'erros', para que então garanta um bom aprendizado para a máquina.\n",
        "\n",
        "\n",
        "# O que realmente é Ciência de Dados? Explicado por um Cientista de Dados\n",
        "\n",
        "\n",
        "Ciência de dados é o processo de usar dados para criar o máximo impacto possível para uma empresa. Esse impacto pode vir na forma de insights, produtos de dados ou recomendações de produtos. Para conseguir isso, os cientistas de dados podem usar ferramentas como modelos, visualizações de dados ou código. O foco deve estar sempre na resolução de problemas reais da empresa.\n",
        "\n",
        "\n",
        "Ser um bom cientista de dados significa resolver problemas, ser um estrategista e ter um impacto significativo em uma empresa. A ascensão do big data e da web 2.0 levou ao surgimento da ciência de dados, que combina a ciência da computação com a mineração de dados para extrair insights úteis de grandes conjuntos de dados não estruturados. No geral, a ciência de dados é um campo que abrange a coleta, análise e modelagem de dados, com aplicações em uma ampla gama de setores.\n",
        "\n",
        "\n",
        "Para empresas de diferentes tamanhos há diferentes concepções de um cientista de dados, o papel a desempenhar pode variar desde de a coleção de dados, até treinamento de modelos de deep learning, onde em uma startup que um cientista de dados poderia fazer tudo, em uma empresa grande ele pode se encarregar de apenas uma tarefa como criar modelos.\n",
        "\n",
        "\n",
        "\n"
      ],
      "metadata": {
        "id": "5p_gskIdYa21"
      }
    }
  ]
}