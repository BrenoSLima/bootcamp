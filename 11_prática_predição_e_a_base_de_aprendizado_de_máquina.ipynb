{
  "nbformat": 4,
  "nbformat_minor": 0,
  "metadata": {
    "colab": {
      "provenance": []
    },
    "kernelspec": {
      "name": "python3",
      "display_name": "Python 3"
    },
    "language_info": {
      "name": "python"
    }
  },
  "cells": [
    {
      "cell_type": "markdown",
      "source": [
        "# Proposta da tarefa\n",
        "\n",
        "Conceitos importantes de primeiros algoritmos de aprendizado de máquina e seus principais conceitos e aplicações.\n",
        "\n",
        "Curso: [Machine Learning, Data Science and Generative AI with Python](https://www.udemy.com/course/data-science-and-machine-learning-with-python-hands-on/?couponCode=ST7MT41824)\n",
        "\n",
        "\n",
        "Seções: Predictive Models; Machine Learning with Python. (2 horas e 20 minutos)\n",
        "\n"
      ],
      "metadata": {
        "id": "66Y-o1UfgDD_"
      }
    },
    {
      "cell_type": "markdown",
      "source": [
        "\n",
        "\n",
        "\n",
        "# Modelos preditivos\n",
        "\n",
        "São modelos com a função de aprender com dados e predizer novos casos ainda não vistos pelo modelo.\n",
        "\n",
        "## Linear regression\n",
        "\n",
        "O objetivo é encontrar a melhor linha reta que se ajusta aos dados, minimizando a diferença entre os valores reais e os valores previstos.\n",
        "\n",
        "O coeficiente R-squared indica o quanto a variação nos valores previstos pelo modelo se ajusta à variação nos dados reais.\n",
        "\n",
        "Pode ser usada pela stats do scipy."
      ],
      "metadata": {
        "id": "_AlPhrg9NIvJ"
      }
    },
    {
      "cell_type": "code",
      "source": [
        "stats.linregress()"
      ],
      "metadata": {
        "id": "DtKhHSpSSb4F"
      },
      "execution_count": null,
      "outputs": []
    },
    {
      "cell_type": "markdown",
      "source": [
        "## Polynomial regression\n",
        "\n",
        "\n",
        "É uma extensão da regressão linear que permite modelar relações não lineares entre variáveis. Em vez de ajustar uma linha reta aos dados, ela se ajusta a um polinômio de grau superior, como uma curva. Isso é útil quando a relação entre as variáveis não pode ser representada de forma linear.\n",
        "\n",
        "\n",
        "Uma das coisas a se considerar usando esse modelo é o overfitting, evitando usar mais graus do que necessários no polinômio.\n",
        "\n",
        "\n",
        "Em python é usado a biblioteca numpy para tal.\n",
        "\n",
        "\n",
        "\n"
      ],
      "metadata": {
        "id": "N-gTMWX0Sbld"
      }
    },
    {
      "cell_type": "code",
      "source": [
        "numpy.polyfit()"
      ],
      "metadata": {
        "id": "QbCLMEXPSQS2"
      },
      "execution_count": null,
      "outputs": []
    },
    {
      "cell_type": "markdown",
      "source": [
        "## Multiple regression\n",
        "\n",
        "Lida com múltiplas variáveis independentes para prever uma variável dependente. Ela é uma extensão da regressão linear simples e é usada quando há mais de uma variável que afeta a variável dependente. Cada variável independente contribui com um coeficiente para a equação de previsão.\n",
        "\n",
        "Em python usada pelo pacote statsmodel."
      ],
      "metadata": {
        "id": "0FcDaTEEUwE3"
      }
    },
    {
      "cell_type": "code",
      "source": [
        "statsmodels.add_contant()\n",
        "statsmodels.api.OLS().fit"
      ],
      "metadata": {
        "id": "5N2axhnXWuEz"
      },
      "execution_count": null,
      "outputs": []
    },
    {
      "cell_type": "markdown",
      "source": [
        "Esse modelo após treinado permite olhar a tabela de resultados dos coeficientes e extrair mais interpretações sobre o problema.\n",
        "\n",
        "\n",
        "De forma resumida, aplica diferentes regressões lineares em diferentes features ao mesmo tempo, e associando um coeficiente para cada uma.\n",
        "\n",
        "\n",
        "# Multi-Level models\n",
        "\n",
        "\n",
        "Os modelos de múltiplos níveis são utilizados quando os dados têm uma estrutura hierárquica. Eles permitem modelar variações tanto dentro de grupos quanto entre grupos, capturando assim a complexidade dos dados.\n",
        "\n",
        "\n",
        "# Supervised vs. Unsupervised Learning\n",
        "\n",
        "\n",
        "Modelos de machine learning são algoritmos que aprendem com base nos dados de treinos fornecidos, para tal, existem duas formas de se fazer isso.\n",
        "\n",
        "\n",
        "## Aprendizado não supervisionado\n",
        "\n",
        "\n",
        "Os dados fornecidos para ele não possuem um rótulo, ou seja, não há uma resposta para o modelo se basear e traçar padrões a partir de algo. O modelo terá se apenas olhando a distribuição dos dados criar padrões/grupos nele.\n",
        "\n",
        "\n",
        "## Aprendizado supervisionado\n",
        "\n",
        "\n",
        "Já para o aprendizado supervisionado, o modelo irá aprender padrões com base em dados já identificados, possibilitando ele predizer novos casos respondendo um problema, já que ele possui um rótulo para se responder.\n",
        "\n",
        "\n",
        "### Train test split\n",
        "\n",
        "\n",
        "Para modelos supervisionados, há a possibilidade de checar o quanto eles estão aprendendo comparando o modelo com casos novos e medindo o quão bem ele performa. Para isso, os dados são divididos entre dados de treino e dados de testes.\n",
        "\n",
        "\n",
        "# Métodos Bayesianos\n",
        "\n",
        "\n",
        "## Naive Bayes\n",
        "\n",
        "\n",
        "Aprende as probabilidades condicionais das características em relação às classes e as utiliza para realizar a classificação de novos dados.\n",
        "\n",
        "\n",
        "# K-means\n",
        "\n",
        "\n",
        "Visa dividir um conjunto de dados em grupos (clusters) com base em similaridades entre os pontos de dados. O algoritmo começa com a escolha de um número K de clusters e atribui pontos de dados aos clusters de forma a minimizar a distância entre os pontos dentro de um mesmo cluster.\n",
        "\n",
        "\n",
        "Performa melhor em dados normalizados.\n",
        "\n",
        "\n",
        "# Entropia\n",
        "\n",
        "\n",
        "Uma forma de medir a desordem de um dataset, ou seja, o quão similar ou diferentes os dados são.\n",
        "\n",
        "\n",
        "A entropia aumenta conforme aumentam as classes presentes nos dados.\n",
        "\n",
        "\n",
        "# Árvore de decisão\n",
        "\n",
        "\n",
        "Toma decisões com base em condições lógicas, dividindo um conjunto de dados em ramos que levam a diferentes resultados. Cada nó na árvore representa uma escolha entre várias opções, e as folhas representam os resultados finais ou as classificações desejadas. Para escolha dos ramos, a árvore escolhe primeiro aquele que fará com que seus filhos tenham menos entropia possível.\n",
        "\n",
        "\n",
        "## Random forest\n",
        "\n",
        "\n",
        "O problema desse modelo é o overfitting. Árvores podem se estender até se ajustar perfeitamente aos dados de entrada. Uma solução para isso é o algoritmo de random forest, que trás um conjunto de árvores de decisões com aspecto aleatório, ou seja, atributos com mais classes ficam acima na árvore.\n",
        "\n",
        "\n",
        "# Esemble Learning\n",
        "\n",
        "\n",
        "Ato de considerar diferentes modelos de machine learning simultaneamente para gerar uma resposta/predição.\n",
        "\n",
        "\n",
        "## XGBosst\n",
        "\n",
        "\n",
        "Funciona de forma sequencial, treinando várias árvores de decisão em série. Cada árvore é ajustada para corrigir os erros. As previsões de todas as árvores são combinadas, geralmente usando uma média ponderada, para produzir o resultado final. Isso resulta em um modelo robusto e preciso, capaz de lidar com uma variedade de problemas de aprendizado de máquina.\n",
        "\n",
        "\n",
        "# Support Vector Machine\n",
        "\n",
        "\n",
        "Algoritmo que encontra um hiperplano que maximize a margem entre diferentes classes de dados, dividindo eles. Sendo assim é usava em problemas de classificação\n",
        "\n",
        "\n",
        "Bons para casos com dados em muitas dimensões\n",
        "\n",
        "\n",
        "\n"
      ],
      "metadata": {
        "id": "pPiSJUzQYWmG"
      }
    }
  ]
}