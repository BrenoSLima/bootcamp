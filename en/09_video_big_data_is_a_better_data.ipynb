{
  "nbformat": 4,
  "nbformat_minor": 0,
  "metadata": {
    "colab": {
      "provenance": []
    },
    "kernelspec": {
      "name": "python3",
      "display_name": "Python 3"
    },
    "language_info": {
      "name": "python"
    }
  },
  "cells": [
    {
      "cell_type": "markdown",
      "source": [
        "# Task proposal\n",
        "\n",
        "What is big data and how does it impact the world in the future? The lecture discussed in this task covers the topic in an explanatory way, and discusses free will and ethical decisions in relation to this topic.\n",
        "\n",
        "Lecture: [Big data is better data](https://www.ted.com/talks/kenneth_cukier_big_data_is_better_data#t-6612)"
      ],
      "metadata": {
        "id": "tke-26OtfPSi"
      }
    },
    {
      "cell_type": "markdown",
      "source": [
        "# Analogy with pies\n",
        "\n",
        "\n",
        "At the beginning of the video, the justification that more data results in better data is made through an analogy with pies, where, although Americans' favorite pie is considered the 30 cm apple pie, when 11 cm pies appear on the market, Apple pie decreases in the ranking of favorite pies. The reason behind this is that an entire family must agree to decide to purchase a 12-inch apple pie, and even though apple pie is each family member's second favorite, that will be the pie of choice. However, once there is the possibility of individual 11cm pies, these become the favorites and are replaced by apple pies, as there is no need for different people to agree on a flavor.\n",
        "\n",
        "\n",
        "This analogy offers a new perspective by highlighting how introducing smaller options to the market can affect people's preference rankings. It illustrates how the availability of more data can reveal new insights and improvements on a given topic.\n",
        "\n",
        "\n",
        "# Big data\n",
        "\n",
        "\n",
        "Considering the analogy, the term big data brings with it an importance for the future in a world with more and more data, where it will be necessary to be able to make sense and create contexts from large volumes of data.\n",
        "\n",
        "\n",
        "The speaker shows examples of how a simple scenario of a driver and a car can be transformed with more data, for example, by measuring driver information, it can be identified that the driver fell asleep at the wheel, causing the car to turn on its lights and honk. .\n",
        "\n",
        "\n",
        "# Machine Learning\n",
        "\n",
        "\n",
        "It is common knowledge that machine learning models receive this name because they precisely learn to perform tasks instructed to them, but firstly, the model needs to be fed with data to train and learn.\n",
        "\n",
        "\n",
        "This leads us to reflect on the significant impact that machine learning models have on our current society. They will not only have more data, but also new data to adapt and provide a wide range of functionalities and models useful to society. This, in turn, has important implications related to free will and ethical decisions. The choice of model objectives must be done carefully, as highlighted by the speaker. Cases can arise where factors such as location, credit history and even identifying aggressive thoughts in a person can be used to find someone guilty of something they have not yet committed, thus challenging our notion of freedom as a society.\n",
        "\n",
        "\n",
        "In short, the future is promising, but it also demands responsibility and constant reflection as we navigate this new era of data."
      ],
      "metadata": {
        "id": "XAhOKN-D5ERK"
      }
    }
  ]
}