{
  "nbformat": 4,
  "nbformat_minor": 0,
  "metadata": {
    "colab": {
      "provenance": []
    },
    "kernelspec": {
      "name": "python3",
      "display_name": "Python 3"
    },
    "language_info": {
      "name": "python"
    }
  },
  "cells": [
    {
      "cell_type": "markdown",
      "source": [
        "# Task proposal\n",
        "\n",
        "\n",
        "Introductory content on what Deep Learning is and where it is applied.\n",
        "\n",
        "\n",
        "Video: [Deep Learning | What is Deep Learning? | Deep Learning Tutorial For Beginners | 2023 | Simplilearn](https://youtu.be/6M5VXKLf4D4?si=C3tbgBYwOcKuqKvi)"
      ],
      "metadata": {
        "id": "pa1OcZnigipC"
      }
    },
    {
      "cell_type": "markdown",
      "source": [
        "# What is deep learning?\n",
        "\n",
        "\n",
        "Deep learning is one of the forms of learning within the field of machine learning, a field that seeks algorithms that can learn from data.\n",
        "\n",
        "\n",
        "Machine learning itself is a field of artificial intelligence, which seeks to imitate human behaviors, such as learning.\n",
        "\n",
        "\n",
        "A deep neural network is made up of neurons and their connections. In an example of computer vision, each pixel of an image is transformed into a neuron, forming the input layer. For the next layer, the weights of these neurons are summed and the bias is added. The final result is passed to the activation function and fed to the next layer, where the process is repeated. The fact that the network has a large number of layers makes it deep.\n",
        "\n",
        "\n",
        "# Where deep learning is applied\n",
        "\n",
        "\n",
        "Some examples are:\n",
        "\n",
        "\n",
        "1. Customer support\n",
        "2. Medical branch with diagnoses using computer vision in exams\n",
        "3. Self-driving cars\n",
        "\n",
        "\n",
        "# Characteristics of a neural network\n",
        "\n",
        "\n",
        "1. Need a lot of data for training\n",
        "2. Learns faster on GPU, which makes learning more expensive\n",
        "3. It can take a long time to train"
      ],
      "metadata": {
        "id": "n-xO15plANAH"
      }
    }
  ]
}