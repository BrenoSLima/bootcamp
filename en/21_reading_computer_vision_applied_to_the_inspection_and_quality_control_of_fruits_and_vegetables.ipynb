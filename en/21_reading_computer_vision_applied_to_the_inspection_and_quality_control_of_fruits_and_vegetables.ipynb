{
  "nbformat": 4,
  "nbformat_minor": 0,
  "metadata": {
    "colab": {
      "provenance": []
    },
    "kernelspec": {
      "name": "python3",
      "display_name": "Python 3"
    },
    "language_info": {
      "name": "python"
    }
  },
  "cells": [
    {
      "cell_type": "markdown",
      "source": [
        "# Task proposal\n",
        "\n",
        "Analysis of a real computer vision project through an article on quality inspection of fruits and vegetables.\n",
        "\n",
        "\n",
        "Article: Saldana, E., Siche, R., Luján, M., & Quevedo, R. (2013). Review: computer vision applied to inspection and quality control of fruits and vegetables."
      ],
      "metadata": {
        "id": "KKACTkyclHB8"
      }
    },
    {
      "cell_type": "markdown",
      "source": [
        "# Summary\n",
        "\n",
        "\n",
        "The article analyzed in this task is a review of the application of computer vision in fruit and vegetable inspection, where it is studied from the classification of the fruit and its quality, to how to store it, proving that the proposed system replaces and improves processes manuals.\n",
        "\n",
        "\n",
        "# Introduction\n",
        "\n",
        "\n",
        "The field of computer vision has grown in recent years precisely because of its ability to thoroughly analyze the characteristics and attributes of a problem, which is the case of fruit and vegetable inspection, where aspects such as maturity, size, weight, shape, etc. are explored. color, presence of dirt and diseases, presence or absence of stem, presence of seeds, sugar content, etc.\n",
        "\n",
        "\n",
        "Until recent times, this process was carried out only by humans, causing possible errors due to physiological reasons such as fatigue and habits, in addition to showing a certain inconsistency when different people analyzed the same fruit. With new, stricter regulations on food qualities, the use of computer vision becomes a possibility to improve this scenario.\n",
        "\n",
        "\n",
        "However, two fruits from the same tree may appear different in color, size and shape from each other. Additionally, it is important to detect stems, leaves, dirt or any foreign material\n",
        "material in the quality control lines, and do not confuse these\n",
        "with other stains on the fruit itself. Therefore, unlike other industrial fields, this requires an extra level of detail.\n",
        "\n",
        "\n",
        "# Theoretical support\n",
        "\n",
        "\n",
        "It is important to highlight that, due to the difficulties shown previously in the article, and because it requires high speed in classifications, this type of solution is largely based on the hardware on which it is installed, depending heavily on the light and image quality of the equipment.\n",
        "\n",
        "\n",
        "## Light\n",
        "\n",
        "\n",
        "More specifically, the light can be mounted in different ways in the scenarios to improve the performance of the problem. Therefore, for the best result to be achieved, the geometric aspects of the problem must be considered and the light distributed in a way that makes it as uniform as possible, not exaggerating the brightness or shadows in any corner of the images. .\n",
        "\n",
        "\n",
        "In relation to other works involving other types of objects, the assembly of the light is always considered based on the geometry and transparency of the object, as shown in some cases in the article.\n",
        "\n",
        "\n",
        "## Image acquisition\n",
        "\n",
        "\n",
        "Just like light, if the objective and nature of the system varies, a choice of technology must be made that best optimizes the results. In the case of cameras, different possibilities are shown, such as CCD-based, CMOS-based, Multispectral and hyperspectral.\n",
        "\n",
        "\n",
        "## Image processing\n",
        "\n",
        "\n",
        "The chapter discusses various techniques used to process acquired images, covering color space transformations, which are used to convert images from one color space to another, and image segmentation, which is used to separate an image into different regions or objects . The chapter also discusses feature extraction, which involves identifying and extracting relevant features from an image, and classification, which involves assigning a label or category to an image based on its features.\n",
        "\n",
        "\n",
        "# Applications in inspection and control of quality characteristics\n",
        "\n",
        "\n",
        "## Color\n",
        "\n",
        "\n",
        "Discusses the challenges associated with color assessment due to natural variations in color and texture after harvest, as well as the need to differentiate between natural variations and defects. Furthermore, it highlights the use of different imaging techniques, including visible spectrum, ultraviolet-induced fluorescence spectrum (UVIF), and near-infrared spectrum (NIR), for color analysis.\n",
        "\n",
        "\n",
        "## Size and Volume\n",
        "\n",
        "\n",
        "It shows the challenges associated with measuring irregular shapes and the influence of the object's orientation relative to the camera on size estimation. Additionally, it includes the use of multiple images from different angles to obtain accurate measurements.\n",
        "\n",
        "\n",
        "## Form\n",
        "\n",
        "\n",
        "It highlights the need to identify deformities or irregular shapes that could impact the marketing of products. Additionally, it discusses the subjective nature of shape measurement and how it can be estimated from other characteristics such as size and volume. It also mentions the use of computer vision to categorize fruits and vegetables based on their shape.\n",
        "\n",
        "\n",
        "## Texture\n",
        "\n",
        "\n",
        "It emphasizes the challenges associated with this analysis due to the high rate of variability in texture and color between fruits of the same variety. The subchapter also mentions the use of Principal Component Analysis (PCA) to combine color and texture information for the detection of skin defects in fruits. Furthermore, it discusses the use of texture-based segmentation algorithms that take into account the spatial relationships between neighboring pixels to characterize different regions of an image and detect changes between them.\n",
        "\n",
        "\n",
        "# Conclusion\n",
        "\n",
        "\n",
        "It highlights the importance of meaccurately measure color, size, volume and texture for quality assessment and the challenges associated with these measurements. Furthermore, it highlights the need for accurate shape measurement to identify deformities or irregular shapes that could impact the marketing of products. Furthermore, it emphasizes the need for more research to address the challenges associated with texture analysis and the high rate of texture and color variability among fruits of the same variety. Overall, the section concludes that computer vision has the potential to significantly improve the efficiency and accuracy of inspection and quality control processes in the fruit and vegetable industry."
      ],
      "metadata": {
        "id": "lHYRBvHf2T96"
      }
    }
  ]
}