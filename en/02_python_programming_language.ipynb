{
  "nbformat": 4,
  "nbformat_minor": 0,
  "metadata": {
    "colab": {
      "provenance": []
    },
    "kernelspec": {
      "name": "python3",
      "display_name": "Python 3"
    },
    "language_info": {
      "name": "python"
    }
  },
  "cells": [
    {
      "cell_type": "markdown",
      "source": [
        "# Task proposal\n",
        "\n",
        "Cover various Python functionalities in a practical way through a course, as well as explore OOP concepts at the end of the task.\n",
        "\n",
        "Video 1: [PYTHON 3 Quick Course 🐍 Part #1 2020 - 100% Practical!](https://youtu.be/oUrBHiT-lzo?si=N1RhLUVZZhbtwQSN) (1 hour and 38 minutes)\n",
        "\n",
        "Video 2: [PYTHON 3 Quick Course 🐍 Part #2 2020 - 100% Practical!](https://youtu.be/iq7JLIH-sV0?si=xv07ql-WhT8VVJgz) (1 hour and 41 minutes)"
      ],
      "metadata": {
        "id": "P708xkdbZNHb"
      }
    },
    {
      "cell_type": "markdown",
      "source": [
        "# Summary of parts 1 and 2 of the python 3 crash course\n",
        "\n",
        "The following cells summarize the content shown and encoded in the videos, also following their order of content presented."
      ],
      "metadata": {
        "id": "cjhb5kOW-VIr"
      }
    },
    {
      "cell_type": "markdown",
      "source": [
        "# Packages and modules\n",
        "In Python, packages and modules are a way of organizing and reusing code, where modules will be code written in Python that defines functions, classes and variables that can be imported into any other module where they will be used, behaving like a \"library \".\n",
        "\n",
        "Packages are a way of organizing modules by relating them in a hierarchy of directories. A package can contain other packages or modules within it.\n",
        "\n",
        "In the video in question, a folder called \"package\" is created, and another folder inside this called \"sub\", thus characterizing a hierarchy of packages.\n",
        "\n",
        "With a module \"arquivo.py\" created within the sub package, it is possible to import it into main using the following code."
      ],
      "metadata": {
        "id": "iA7xean_4AgP"
      }
    },
    {
      "cell_type": "code",
      "source": [
        "import package.sub.file"
      ],
      "metadata": {
        "id": "7KOsNkZU-jr7"
      },
      "execution_count": null,
      "outputs": []
    },
    {
      "cell_type": "markdown",
      "source": [
        "Where from this line, the commands within \"arquivo.py\" will be executed.\n",
        "\n",
        "## Built-in variables\n",
        "Being able to browse different modules in different packages in Python, there is a way for each code to know which package and which file is currently being executed, and this can be done through the built-in variables.\n",
        "\n",
        "Through the name variable you can access the name of the module executed at that moment. The package variable contains information about the package in question. The following code represents the use of these variables, as shown in the video."
      ],
      "metadata": {
        "id": "8yL11M6W-m6M"
      }
    },
    {
      "cell_type": "code",
      "source": [
        "print(__name__)\n",
        "print(__package__)"
      ],
      "metadata": {
        "colab": {
          "base_uri": "https://localhost:8080/"
        },
        "id": "lYnXJg_3ABvz",
        "outputId": "eb34409a-c7e5-4f4e-9186-cf298b191d30"
      },
      "execution_count": null,
      "outputs": [
        {
          "output_type": "stream",
          "name": "stdout",
          "text": [
            "__main__\n",
            "None\n"
          ]
        }
      ]
    },
    {
      "cell_type": "markdown",
      "source": [
        "## Shebang\n",
        "As shown in the code below, the shebang is added to the top of the script files so that a program can interpret and process it correctly, which in this case is Python 3."
      ],
      "metadata": {
        "id": "X8umPfE762Sl"
      }
    },
    {
      "cell_type": "code",
      "source": [
        "#!python3"
      ],
      "metadata": {
        "id": "ewYbzp7A7Z8F"
      },
      "execution_count": null,
      "outputs": []
    },
    {
      "cell_type": "markdown",
      "source": [
        "#f string\n",
        "\n",
        "In Python, you can use das f string as a way to facilitate the use of variables within the print command. As shown in the video, the code below is an example of using this functionality."
      ],
      "metadata": {
        "id": "E-C3YzbxAab6"
      }
    },
    {
      "cell_type": "code",
      "source": [
        "text = 'Your age is...'\n",
        "age = 23\n",
        "\n",
        "print(f'{text} {age}')"
      ],
      "metadata": {
        "colab": {
          "base_uri": "https://localhost:8080/"
        },
        "id": "JhjenDGHBbA6",
        "outputId": "a61debee-1e48-4fbd-8dd7-748eeb5ccc33"
      },
      "execution_count": null,
      "outputs": [
        {
          "output_type": "stream",
          "name": "stdout",
          "text": [
            "Your age is... 23\n"
          ]
        }
      ]
    },
    {
      "cell_type": "markdown",
      "source": [
        "# Receiving user data\n",
        "Through the input command, and assigning its result to a variable, it is possible to receive data from the user, which must then be converted to the right type you want to use in the program, wrapping the input in a python type, as shown below ."
      ],
      "metadata": {
        "id": "HLue61pkCFXh"
      }
    },
    {
      "cell_type": "code",
      "source": [
        "radius = float(input('Enter the radius of the circ: '))"
      ],
      "metadata": {
        "colab": {
          "base_uri": "https://localhost:8080/"
        },
        "id": "iv7eCEM2ChUp",
        "outputId": "0431ee67-e2a8-4104-81cb-5cb4629b1f9c"
      },
      "execution_count": null,
      "outputs": [
        {
          "name": "stdout",
          "output_type": "stream",
          "text": [
            "Enter the radius of the circ: 76\n"
          ]
        }
      ]
    },
    {
      "cell_type": "markdown",
      "source": [
        "# Variable type\n",
        "The type of a variable can be checked by calling the type command."
      ],
      "metadata": {
        "id": "MXslYLJuCxLB"
      }
    },
    {
      "cell_type": "code",
      "source": [
        "print(type(radius))"
      ],
      "metadata": {
        "colab": {
          "base_uri": "https://localhost:8080/"
        },
        "id": "K81XWFRAC83x",
        "outputId": "8447e203-304f-424f-8d60-19a092227aec"
      },
      "execution_count": null,
      "outputs": [
        {
          "output_type": "stream",
          "name": "stdout",
          "text": [
            "<class 'float'>\n"
          ]
        }
      ]
    },
    {
      "cell_type": "markdown",
      "source": [
        "# Lists\n",
        "\n",
        "A list in Python is a way of storing data, where it is created as follows:"
      ],
      "metadata": {
        "id": "i9r-g3Mc3UD0"
      }
    },
    {
      "cell_type": "code",
      "source": [
        "nums = [1, 2, 3]"
      ],
      "metadata": {
        "id": "xtYvZlIW4RCq"
      },
      "execution_count": null,
      "outputs": []
    },
    {
      "cell_type": "markdown",
      "source": [
        "From its creation, new elements can be added through:"
      ],
      "metadata": {
        "id": "1ra2U4de4WAX"
      }
    },
    {
      "cell_type": "code",
      "source": [
        "nums.append(42)"
      ],
      "metadata": {
        "id": "81ynunv_4cJr"
      },
      "execution_count": null,
      "outputs": []
    },
    {
      "cell_type": "markdown",
      "source": [
        "Using the insert method, it is possible to place an element at a specific index:"
      ],
      "metadata": {
        "id": "gF13gEJN4ylF"
      }
    },
    {
      "cell_type": "code",
      "source": [
        "nums.insert(0, -200)"
      ],
      "metadata": {
        "id": "FDWu5Afp56q2"
      },
      "execution_count": null,
      "outputs": []
    },
    {
      "cell_type": "markdown",
      "source": [
        "## Slicing\n",
        "\n",
        "Lists also allow you to select their items using \":\"."
      ],
      "metadata": {
        "id": "tF-LbYeC7djk"
      }
    },
    {
      "cell_type": "code",
      "source": [
        "print(nums[1:4])\n",
        "print(nums[3:])\n",
        "print(nums[:])"
      ],
      "metadata": {
        "colab": {
          "base_uri": "https://localhost:8080/"
        },
        "id": "c0hIB3a27oEK",
        "outputId": "d38b4074-2275-4508-8b67-92277c9fbbf9"
      },
      "execution_count": null,
      "outputs": [
        {
          "output_type": "stream",
          "name": "stdout",
          "text": [
            "[1, 2, 3]\n",
            "[3, 42]\n",
            "[-200, 1, 2, 3, 42]\n"
          ]
        }
      ]
    },
    {
      "cell_type": "markdown",
      "source": [
        "# Tuples\n",
        "\n",
        "Unlike the list that uses square brackets, the tuple uses parentheses."
      ],
      "metadata": {
        "id": "nCQmXeK-6n1Z"
      }
    },
    {
      "cell_type": "code",
      "source": [
        "names = ('Ana', 'Bia', 'Gui', 'Ana')"
      ],
      "metadata": {
        "id": "9Y-uUHsD6s1I"
      },
      "execution_count": null,
      "outputs": []
    },
    {
      "cell_type": "markdown",
      "source": [
        "# Sets\n",
        "\n",
        "Sets are made up of pairs of keys. It also ignores repeating numbers that have been passed to it.\n",
        "\n",
        "It is not an indexed structure, that is, it is not accessed through the index."
      ],
      "metadata": {
        "id": "TC9htihl8S0m"
      }
    },
    {
      "cell_type": "code",
      "source": [
        "conj = {1, 2, 3, 3, 3, 3}\n",
        "print(conj)"
      ],
      "metadata": {
        "colab": {
          "base_uri": "https://localhost:8080/"
        },
        "id": "ShmhLHP38ZmT",
        "outputId": "0510cca0-bd31-4ea4-da89-c74ef00591e0"
      },
      "execution_count": null,
      "outputs": [
        {
          "output_type": "stream",
          "name": "stdout",
          "text": [
            "{1, 2, 3}\n"
          ]
        }
      ]
    },
    {
      "cell_type": "markdown",
      "source": [
        "# Dictionary\n",
        "\n",
        "Just like a set, it is made up of pairs of keys, but it is made up of key and value."
      ],
      "metadata": {
        "id": "Ir-_od-485W4"
      }
    },
    {
      "cell_type": "code",
      "source": [
        "student = {\n",
        "     'name': 'Pedro',\n",
        "     'note': 9.2,\n",
        "     'active' : True\n",
        "}\n",
        "\n",
        "print(student)"
      ],
      "metadata": {
        "colab": {
          "base_uri": "https://localhost:8080/"
        },
        "id": "76ABy1PX9MTa",
        "outputId": "d7f93470-9e2c-40a8-fe95-dc28cc911eb4"
      },
      "execution_count": null,
      "outputs": [
        {
          "output_type": "stream",
          "name": "stdout",
          "text": [
            "{'name': 'Pedro', 'note': 9.2, 'active': True}\n"
          ]
        }
      ]
    },
    {
      "cell_type": "markdown",
      "source": [
        "# Operators\n",
        "\n",
        "## Unaries\n",
        "\n",
        "Operators that perform their function in just one operand.\n",
        "\n",
        "### Logical negation\n",
        "\n",
        "Operator that performs an operation on a Boolean variable."
      ],
      "metadata": {
        "id": "RzE1CAbK9coS"
      }
    },
    {
      "cell_type": "code",
      "source": [
        "print(not True)"
      ],
      "metadata": {
        "colab": {
          "base_uri": "https://localhost:8080/"
        },
        "id": "MH72FAOv90cf",
        "outputId": "3b8f795a-d070-465c-a359-68eb4756a225"
      },
      "execution_count": null,
      "outputs": [
        {
          "output_type": "stream",
          "name": "stdout",
          "text": [
            "False\n"
          ]
        }
      ]
    },
    {
      "cell_type": "markdown",
      "source": [
        "### Minus"
      ],
      "metadata": {
        "id": "8qmj0vhV-aBh"
      }
    },
    {
      "cell_type": "code",
      "source": [
        "y = 4\n",
        "print(-y)"
      ],
      "metadata": {
        "colab": {
          "base_uri": "https://localhost:8080/"
        },
        "id": "-7eet9xV-e_n",
        "outputId": "4a24eff0-f8f8-4758-bc79-3647632b46c3"
      },
      "execution_count": null,
      "outputs": [
        {
          "output_type": "stream",
          "name": "stdout",
          "text": [
            "-4\n"
          ]
        }
      ]
    },
    {
      "cell_type": "markdown",
      "source": [
        "### More"
      ],
      "metadata": {
        "id": "8avV3CsQ-6yq"
      }
    },
    {
      "cell_type": "code",
      "source": [
        "x = -8\n",
        "print(+x)"
      ],
      "metadata": {
        "colab": {
          "base_uri": "https://localhost:8080/"
        },
        "id": "wN1Y-N4u_ADk",
        "outputId": "d4fb23e6-e4ef-475d-ad24-73ac72cd3720"
      },
      "execution_count": null,
      "outputs": [
        {
          "output_type": "stream",
          "name": "stdout",
          "text": [
            "-8\n"
          ]
        }
      ]
    },
    {
      "cell_type": "markdown",
      "source": [
        "## Binaries\n",
        "\n",
        "Operators that perform their function on two operands.\n",
        "\n",
        "### Arithmetic\n",
        "\n",
        "There are different arithmetic operators in python which are listed and shown in the code below:"
      ],
      "metadata": {
        "id": "Rq6MT5hO-5mp"
      }
    },
    {
      "cell_type": "code",
      "source": [
        "x = 10\n",
        "y = 3\n",
        "\n",
        "print(x + y)\n",
        "print(x - y)\n",
        "print(x * y)\n",
        "print(x / y)\n",
        "print(x % y)"
      ],
      "metadata": {
        "colab": {
          "base_uri": "https://localhost:8080/"
        },
        "id": "hymvOTkG_17Q",
        "outputId": "b5208a5d-91c9-4a70-9729-5e979e51c654"
      },
      "execution_count": null,
      "outputs": [
        {
          "output_type": "stream",
          "name": "stdout",
          "text": [
            "13\n",
            "7\n",
            "30\n",
            "3.3333333333333335\n",
            "1\n"
          ]
        }
      ]
    },
    {
      "cell_type": "markdown",
      "source": [
        "### Relational\n",
        "\n",
        "Operators where the result will always be true or false."
      ],
      "metadata": {
        "id": "RSuuGW4GAM3N"
      }
    },
    {
      "cell_type": "code",
      "source": [
        "x = 7\n",
        "y = 5\n",
        "\n",
        "print(x > y)\n",
        "print(x >= y)\n",
        "print(x < y)\n",
        "print(x <= y)\n",
        "print(x == y)\n",
        "print(x != y)"
      ],
      "metadata": {
        "colab": {
          "base_uri": "https://localhost:8080/"
        },
        "id": "eGFnE_4nAeU8",
        "outputId": "7f1785e1-45df-47f4-e29e-29f5c457ed68"
      },
      "execution_count": null,
      "outputs": [
        {
          "output_type": "stream",
          "name": "stdout",
          "text": [
            "True\n",
            "True\n",
            "False\n",
            "False\n",
            "False\n",
            "True\n"
          ]
        }
      ]
    },
    {
      "cell_type": "markdown",
      "source": [
        "### Assignment\n",
        "\n",
        "Operators that change the result of a variable."
      ],
      "metadata": {
        "id": "NSzF9j_qb5he"
      }
    },
    {
      "cell_type": "code",
      "source": [
        "Result = 2\n",
        "Result += 2\n",
        "Result -= 2\n",
        "Result *= 2\n",
        "Result /= 2"
      ],
      "metadata": {
        "id": "20gEMX1pcMkO"
      },
      "execution_count": null,
      "outputs": []
    },
    {
      "cell_type": "markdown",
      "source": [
        "### Logic\n",
        "\n",
        "Operators like \"and\" and \"or\"."
      ],
      "metadata": {
        "id": "gWw4qF2fchjz"
      }
    },
    {
      "cell_type": "code",
      "source": [
        "b1 = True\n",
        "b2 = False\n",
        "b3 = True\n",
        "\n",
        "print(b1 and b2)\n",
        "print(b1 or b2 or b3)\n",
        "print(b1 != b2) #xor\n",
        "print(not b1)\n",
        "\n",
        "print(b1 and not b2 and b3)\n",
        "\n",
        "# Relational operators with logical operators\n",
        "\n",
        "x = 3\n",
        "y = 4\n",
        "\n",
        "print(b1 and not b2 and x < y)"
      ],
      "metadata": {
        "colab": {
          "base_uri": "https://localhost:8080/"
        },
        "id": "pOGhh0uwclJ3",
        "outputId": "4a7b4407-3f38-481f-b552-e1571b7a039f"
      },
      "execution_count": null,
      "outputs": [
        {
          "output_type": "stream",
          "name": "stdout",
          "text": [
            "False\n",
            "True\n",
            "True\n",
            "False\n",
            "True\n",
            "True\n"
          ]
        }
      ]
    },
    {
      "cell_type": "markdown",
      "source": [
        "## Ternary\n",
        "\n",
        "Way to use conditionals to assign values to a variable."
      ],
      "metadata": {
        "id": "2QKxuu2jdIld"
      }
    },
    {
      "cell_type": "code",
      "source": [
        "lockdown = True\n",
        "\n",
        "status = 'At home' if lockdown else 'Uhuul'\n",
        "print(status)"
      ],
      "metadata": {
        "colab": {
          "base_uri": "https://localhost:8080/"
        },
        "id": "HQccmHGddMLs",
        "outputId": "0e055db7-3584-499c-ec96-dda4a19c9207"
      },
      "execution_count": null,
      "outputs": [
        {
          "output_type": "stream",
          "name": "stdout",
          "text": [
            "At home\n"
          ]
        }
      ]
    },
    {
      "cell_type": "markdown",
      "source": [
        "# Control structures\n",
        "\n",
        "## If\n",
        "\n",
        "Condition taking."
      ],
      "metadata": {
        "id": "9OubZyFTdif6"
      }
    },
    {
      "cell_type": "code",
      "source": [
        "grade = float(input('Grade: '))\n",
        "\n",
        "if grade >= 9:\n",
        "   print('Two words: for goods!')\n",
        "   print('Honor Roll')\n",
        "elif grade >= 7:\n",
        "   print('Approved')\n",
        "else:\n",
        "   print('Failed')"
      ],
      "metadata": {
        "colab": {
          "base_uri": "https://localhost:8080/"
        },
        "id": "HczvxkQXeOUm",
        "outputId": "d0858fe1-a363-46be-bf6b-65841ac84d97"
      },
      "execution_count": null,
      "outputs": [
        {
          "output_type": "stream",
          "name": "stdout",
          "text": [
            "Grade: 9\n",
            "Two words: for goods!\n",
            "Honor Roll\n"
          ]
        }
      ]
    },
    {
      "cell_type": "markdown",
      "source": [
        "Algumas propriedades do if:"
      ],
      "metadata": {
        "id": "dJrORD_if7Tk"
      }
    },
    {
      "cell_type": "code",
      "source": [
        "a = 'value' # True\n",
        "a = 0 # False\n",
        "a = -0.00001 # True\n",
        "a = '' # False\n",
        "a = ' ' #True\n",
        "a = [] # False\n",
        "a = {} # False"
      ],
      "metadata": {
        "id": "guubTFXFf4Ub"
      },
      "execution_count": null,
      "outputs": []
    },
    {
      "cell_type": "markdown",
      "source": [
        "## For\n",
        "\n",
        "Repeat loop with determined stop."
      ],
      "metadata": {
        "id": "Jpa4f0LUgO0A"
      }
    },
    {
      "cell_type": "code",
      "source": [
        "for i in range(10):\n",
        "  print(i, end=' ')\n"
      ],
      "metadata": {
        "id": "jobXZg5qtOOz",
        "colab": {
          "base_uri": "https://localhost:8080/"
        },
        "outputId": "3ca7b5d6-ede0-459a-d5a1-196502d33758"
      },
      "execution_count": null,
      "outputs": [
        {
          "output_type": "stream",
          "name": "stdout",
          "text": [
            "0 1 2 3 4 5 6 7 8 9 "
          ]
        }
      ]
    },
    {
      "cell_type": "code",
      "source": [
        "for i in range(1, 100, 9):\n",
        "  print(i, end=' ')"
      ],
      "metadata": {
        "colab": {
          "base_uri": "https://localhost:8080/"
        },
        "id": "4-NnAz-duUVB",
        "outputId": "34191a40-87de-428d-99d1-ec0f83254068"
      },
      "execution_count": null,
      "outputs": [
        {
          "output_type": "stream",
          "name": "stdout",
          "text": [
            "1 10 19 28 37 46 55 64 73 82 91 "
          ]
        }
      ]
    },
    {
      "cell_type": "code",
      "source": [
        "nums = [2, 4, 7, 8]\n",
        "\n",
        "for n in nums:\n",
        "  print(n, end=' | ')"
      ],
      "metadata": {
        "colab": {
          "base_uri": "https://localhost:8080/"
        },
        "id": "fRPZSyaWuUkw",
        "outputId": "47e3456a-8043-48c0-f59b-237a8bcba08c"
      },
      "execution_count": null,
      "outputs": [
        {
          "output_type": "stream",
          "name": "stdout",
          "text": [
            "2 | 4 | 7 | 8 | "
          ]
        }
      ]
    },
    {
      "cell_type": "code",
      "source": [
        "text = 'Python is awesome!'\n",
        "\n",
        "for letter in text:\n",
        "   print(letter, end= ' ')"
      ],
      "metadata": {
        "colab": {
          "base_uri": "https://localhost:8080/"
        },
        "id": "1eHUPjicuh1G",
        "outputId": "298a2fb4-2ece-4caf-ece2-35e06291de42"
      },
      "execution_count": null,
      "outputs": [
        {
          "output_type": "stream",
          "name": "stdout",
          "text": [
            "P y t h o n   i s   a w e s o m e ! "
          ]
        }
      ]
    },
    {
      "cell_type": "code",
      "source": [
        "product = {\n",
        "     'name': 'Pen',\n",
        "     'price': 10,\n",
        "     'discount': 0.5\n",
        "}\n",
        "\n",
        "for attribution in product:\n",
        "   print(attribution, product[attribution])\n",
        "\n",
        "for attrib, value in product.items():\n",
        "   print(f'{attrib} ===> {value}')\n",
        "\n",
        "for value in product.values():\n",
        "   print(value, end=' ')\n",
        "\n",
        "for atrtib in product.keys():\n",
        "   print(attrib, end=' ')"
      ],
      "metadata": {
        "colab": {
          "base_uri": "https://localhost:8080/"
        },
        "id": "TTeeF0ueu5b8",
        "outputId": "dad31907-e9c7-4130-c952-c3b53b14f31e"
      },
      "execution_count": null,
      "outputs": [
        {
          "output_type": "stream",
          "name": "stdout",
          "text": [
            "name Pen\n",
            "price 10\n",
            "discount 0.5\n",
            "name ===> Pen\n",
            "price ===> 10\n",
            "discount ===> 0.5\n",
            "Pen 10 0.5 discount discount discount "
          ]
        }
      ]
    },
    {
      "cell_type": "markdown",
      "source": [
        "## While\n",
        "\n",
        "Repeat loop with indeterminate stop."
      ],
      "metadata": {
        "id": "zcTAAG1Ov2S3"
      }
    },
    {
      "cell_type": "code",
      "source": [
        "x = 0\n",
        "\n",
        "while x != -1:\n",
        "   x = float(input('Enter the number -1 to exit: '))\n",
        "\n",
        "print('End')"
      ],
      "metadata": {
        "colab": {
          "base_uri": "https://localhost:8080/"
        },
        "id": "aj1FY7Nov4t4",
        "outputId": "966213d3-cf37-4364-9163-b638ff4cb671"
      },
      "execution_count": null,
      "outputs": [
        {
          "output_type": "stream",
          "name": "stdout",
          "text": [
            "Enter the number -1 to exit: 5\n",
            "Enter the number -1 to exit: 6\n",
            "Enter the number -1 to exit: -1\n",
            "End\n"
          ]
        }
      ]
    },
    {
      "cell_type": "markdown",
      "source": [
        "# Functions\n",
        "\n",
        "The function below shows different ways of using its resources, where through the named parameters, you can choose to pass or not pass the parameters."
      ],
      "metadata": {
        "id": "dCeg982arImV"
      }
    },
    {
      "cell_type": "code",
      "source": [
        "def greeting(name = 'Person', age = 20):\n",
        "  print(f'Good Morning, {name}!\\nYou dont look {age}\\n')\n",
        "\n",
        "greeting()\n",
        "greeting('Breno')\n",
        "greeting('Breno', 21)"
      ],
      "metadata": {
        "colab": {
          "base_uri": "https://localhost:8080/"
        },
        "id": "gOq5l_wQrKpH",
        "outputId": "417f3b2b-e576-4443-a276-206749e3d00b"
      },
      "execution_count": null,
      "outputs": [
        {
          "output_type": "stream",
          "name": "stdout",
          "text": [
            "Good Morning, Person!\n",
            "You dont look 20\n",
            "\n",
            "Good Morning, Breno!\n",
            "You dont look 20\n",
            "\n",
            "Good Morning, Breno!\n",
            "You dont look 21\n",
            "\n"
          ]
        }
      ]
    },
    {
      "cell_type": "markdown",
      "source": [
        "## Arguments\n",
        "\n",
        "### Packing examples\n",
        "\n",
        "\"Package\" the data received by a function into an object, be it a tuple or a dictionary."
      ],
      "metadata": {
        "id": "XciYysZAwq26"
      }
    },
    {
      "cell_type": "code",
      "source": [
        "def sum(*nums):\n",
        "  total = 0\n",
        "  for n in nums:\n",
        "    total += n\n",
        "  return total\n",
        "\n",
        "\n",
        "s = sum(1, 2, 3, 4, 5, 6)\n",
        "\n",
        "print(s)"
      ],
      "metadata": {
        "colab": {
          "base_uri": "https://localhost:8080/"
        },
        "id": "Q8CCrW2PxARN",
        "outputId": "6a365511-20e2-47bc-8855-0379acd7f0c2"
      },
      "execution_count": null,
      "outputs": [
        {
          "output_type": "stream",
          "name": "stdout",
          "text": [
            "21\n"
          ]
        }
      ]
    },
    {
      "cell_type": "code",
      "source": [
        "def final_result(**kwargs):\n",
        "   status = 'approved' if kwargs['grade'] >= 7 else 'failed'\n",
        "   return f'{kwargs[\"name\"]} was {status}'\n",
        "\n",
        "\n",
        "result = final_result(name='Pedro', grade=5)\n",
        "print(result)"
      ],
      "metadata": {
        "colab": {
          "base_uri": "https://localhost:8080/"
        },
        "id": "E2r9X86-xamx",
        "outputId": "b46ddf37-d70c-4ec7-88bb-37e1fba89a60"
      },
      "execution_count": null,
      "outputs": [
        {
          "output_type": "stream",
          "name": "stdout",
          "text": [
            "Pedro was failed\n"
          ]
        }
      ]
    },
    {
      "cell_type": "markdown",
      "source": [
        "### Functional programming\n",
        "\n",
        "Way to store a function inside a variable"
      ],
      "metadata": {
        "id": "6-5c7FWkzJ5W"
      }
    },
    {
      "cell_type": "code",
      "source": [
        "def sum(a, b):\n",
        "   return a+b\n",
        "\n",
        "add = sum\n",
        "print(add(3, 4))"
      ],
      "metadata": {
        "colab": {
          "base_uri": "https://localhost:8080/"
        },
        "id": "GB8knaAjzKny",
        "outputId": "f1c4033b-38b0-4eb2-8aaa-be9fb41f1811"
      },
      "execution_count": null,
      "outputs": [
        {
          "output_type": "stream",
          "name": "stdout",
          "text": [
            "7\n"
          ]
        }
      ]
    },
    {
      "cell_type": "markdown",
      "source": [
        "The code below shows the use of a function being passed through a parameter for another function to call it."
      ],
      "metadata": {
        "id": "8Kbwwde4z1cT"
      }
    },
    {
      "cell_type": "code",
      "source": [
        "def arithmetic_operation(fn, op1, op2):\n",
        "   return fn(op1, op2)\n",
        "\n",
        "result = arithmetic_operation(sum, 13, 48)\n",
        "print(result)"
      ],
      "metadata": {
        "colab": {
          "base_uri": "https://localhost:8080/"
        },
        "id": "0-KdvBV1zduX",
        "outputId": "2fefa8dc-cc84-4192-882b-585bc37f19c4"
      },
      "execution_count": null,
      "outputs": [
        {
          "output_type": "stream",
          "name": "stdout",
          "text": [
            "61\n"
          ]
        }
      ]
    },
    {
      "cell_type": "markdown",
      "source": [
        "The following code demonstrates how to use the return of one function for another to perform a partial sum."
      ],
      "metadata": {
        "id": "HBwTPUvS1aJz"
      }
    },
    {
      "cell_type": "code",
      "source": [
        "def partial_sum(a):\n",
        "   def complete_sum(b):\n",
        "     return a+b\n",
        "   return complete_sum\n",
        "\n",
        "fn = partial_sum(2)\n",
        "result = fn(3)\n",
        "print(result)\n",
        "\n",
        "result = partial_sum(2)(4)\n",
        "print(result)"
      ],
      "metadata": {
        "colab": {
          "base_uri": "https://localhost:8080/"
        },
        "id": "CNQKy2s30GPT",
        "outputId": "7d0c95b1-6c34-4255-9e98-1f9c74015dc7"
      },
      "execution_count": null,
      "outputs": [
        {
          "output_type": "stream",
          "name": "stdout",
          "text": [
            "5\n",
            "6\n"
          ]
        }
      ]
    },
    {
      "cell_type": "markdown",
      "source": [
        "##Map\n",
        "\n",
        "Cycles through a list making changes to its items based on a function.\n",
        "\n",
        "Although both repetition loops below have the same proposal, the mapping can be used to perform the same action, thus being able to also reuse the mais_um_meio function if desired in the future in the code."
      ],
      "metadata": {
        "id": "WehrRQPm1rDP"
      }
    },
    {
      "cell_type": "code",
      "source": [
        "def more_half(note):\n",
        "   return grade + 1.5\n",
        "\n",
        "grades = [2, 5.6, 2.6, 7.5]\n",
        "\n",
        "#for i, note in enumerate(notes):\n",
        "# grades[i] = grade + 1.5\n",
        "\n",
        "#for i in range(len(notes)):\n",
        "# notes[i] = notes[i] + 1.5\n",
        "\n",
        "final_grades = list(map(more_half, grades))\n",
        "print(final_grades)"
      ],
      "metadata": {
        "colab": {
          "base_uri": "https://localhost:8080/"
        },
        "id": "LaDsRUHd1zHH",
        "outputId": "dbca68e8-ecda-4097-ca55-7c5a82863ea8"
      },
      "execution_count": null,
      "outputs": [
        {
          "output_type": "stream",
          "name": "stdout",
          "text": [
            "[10.5, 10.5, 10.5, 10.5]\n"
          ]
        }
      ]
    },
    {
      "cell_type": "markdown",
      "source": [
        "Normally used when you want to provide a list, and have a modified list returned."
      ],
      "metadata": {
        "id": "jgdgI8-S6_nn"
      }
    },
    {
      "cell_type": "markdown",
      "source": [
        "##Reduce\n",
        "\n",
        "Iterates through a list by calling a function with one parameter being an accumulator, and another being the current element."
      ],
      "metadata": {
        "id": "kVJ1Jjfa4E-a"
      }
    },
    {
      "cell_type": "code",
      "source": [
        "from functools import reduce\n",
        "\n",
        "def add(a, b):\n",
        "   return a+b\n",
        "\n",
        "\n",
        "grades = [2, 5.6, 2.6, 7.5]\n",
        "\n",
        "total = reduce(add, grades, 0)\n",
        "print(total)"
      ],
      "metadata": {
        "colab": {
          "base_uri": "https://localhost:8080/"
        },
        "id": "hFRVODhp4UOn",
        "outputId": "078782f2-dfdf-4a5b-8346-de48db0a8d88"
      },
      "execution_count": null,
      "outputs": [
        {
          "output_type": "stream",
          "name": "stdout",
          "text": [
            "17.7\n"
          ]
        }
      ]
    },
    {
      "cell_type": "markdown",
      "source": [
        "## Lambda and Filter\n",
        "\n",
        "The filter function will go through all students, applying the lambda function to each one, where in cases where the condition is true, it will cause the element to be present in the generated array."
      ],
      "metadata": {
        "id": "j7TlLv-M4uKw"
      }
    },
    {
      "cell_type": "code",
      "source": [
        "from functools import reduce\n",
        "\n",
        "students = [\n",
        "     {'name': 'Ana', 'grade': 4.6},\n",
        "     {'name': 'Breno', 'grade': 10},\n",
        "     {'name': 'Claudia', 'grade': 7},\n",
        "     {'name': 'Pedro', 'grade': 5.8},\n",
        "     {'name': 'Rafael', 'grade': 9.6}\n",
        "     ]\n",
        "\n",
        "approved_student = lambda student: student['grade'] >= 7\n",
        "\n",
        "approved_students = list(filter(approved_student, students))\n",
        "\n",
        "print(approved_students)"
      ],
      "metadata": {
        "colab": {
          "base_uri": "https://localhost:8080/"
        },
        "id": "Gjtb4Zyo4-7A",
        "outputId": "86c25613-f302-484c-d190-376810c54f40"
      },
      "execution_count": null,
      "outputs": [
        {
          "output_type": "stream",
          "name": "stdout",
          "text": [
            "[{'name': 'Breno', 'grade': 10}, {'name': 'Claudia', 'grade': 7}, {'name': 'Rafael', 'grade': 9.6}]\n"
          ]
        }
      ]
    },
    {
      "cell_type": "markdown",
      "source": [
        "This set of lambda and filter can normally be used when you have a function that can be specified in one line, and helps select specific elements from an array together with the filter."
      ],
      "metadata": {
        "id": "dZhuP3qw6dAn"
      }
    },
    {
      "cell_type": "code",
      "source": [
        "get_note = lambda student: student['grade']\n",
        "\n",
        "grades_passed_students = list(map(get_note, approved_students))\n",
        "\n",
        "print(grades_passed_students)"
      ],
      "metadata": {
        "colab": {
          "base_uri": "https://localhost:8080/"
        },
        "id": "An_bhsFc6vef",
        "outputId": "c73fbea2-e99d-4148-ebe4-54d0286dc2e6"
      },
      "execution_count": null,
      "outputs": [
        {
          "output_type": "stream",
          "name": "stdout",
          "text": [
            "[10, 7, 9.6]\n"
          ]
        }
      ]
    },
    {
      "cell_type": "code",
      "source": [
        "add = lambda a, b: a + b\n",
        "\n",
        "total = reduce(add, grades_passed_students, 0)\n",
        "\n",
        "print(total)"
      ],
      "metadata": {
        "colab": {
          "base_uri": "https://localhost:8080/"
        },
        "id": "V9C8GuE19IMD",
        "outputId": "dcfccc79-653d-469e-c075-8405c5f47483"
      },
      "execution_count": null,
      "outputs": [
        {
          "output_type": "stream",
          "name": "stdout",
          "text": [
            "26.6\n"
          ]
        }
      ]
    },
    {
      "cell_type": "markdown",
      "source": [
        "## Summary\n",
        "\n",
        "Map, reduce and filter are tools applied to lists of objects, with the aim of mapping, adding, and selecting, for example."
      ],
      "metadata": {
        "id": "DH5Y_ZOh9c_1"
      }
    },
    {
      "cell_type": "markdown",
      "source": [
        "## List Comprehension\n",
        "\n",
        "Way of iterating over a list, making changes and comparisons that will eventually generate another list."
      ],
      "metadata": {
        "id": "vohN_9Ts9sK1"
      }
    },
    {
      "cell_type": "code",
      "source": [
        "approved_students = [student['grade'] for student in students if student['grade'] >= 7]\n",
        "\n",
        "print(approved_students)"
      ],
      "metadata": {
        "colab": {
          "base_uri": "https://localhost:8080/"
        },
        "id": "dXjAlx6f9uxQ",
        "outputId": "5d766578-ccdd-49f3-8bc7-f629da4f8526"
      },
      "execution_count": null,
      "outputs": [
        {
          "output_type": "stream",
          "name": "stdout",
          "text": [
            "[10, 7, 9.6]\n"
          ]
        }
      ]
    },
    {
      "cell_type": "markdown",
      "source": [
        "# Class\n",
        "\n",
        "@property is a decorator that ensures that the object's method must be called as an attribute in the code."
      ],
      "metadata": {
        "id": "fjmZ2wEF-Rw_"
      }
    },
    {
      "cell_type": "code",
      "source": [
        "class Product:\n",
        "   def __init__(self, name, price = 1.99, desc=0):\n",
        "     self.__name = name\n",
        "     self.__price = price\n",
        "     self.desc = desc\n",
        "\n",
        "   @property\n",
        "   def name(self):\n",
        "     return self.__name\n",
        "\n",
        "   @property\n",
        "   def price(self):\n",
        "     return self.__price\n",
        "\n",
        "   @price.setter\n",
        "   def price(self, new_price):\n",
        "     if new_price > 0:\n",
        "       self.__price = new_price\n",
        "\n",
        "   @property\n",
        "   def final_price(self):\n",
        "     return self.price * (1 - self.desc)\n",
        "\n",
        "p1 = Product('Pen', 10)\n",
        "p2 = Product('Notebook', 34, 0.2)\n",
        "\n",
        "p2.price = 5\n",
        "\n",
        "print(p1.name, p1.price, p1.desc)\n",
        "print(p2.name, p2.price, p2.desc, p2.final_price)"
      ],
      "metadata": {
        "colab": {
          "base_uri": "https://localhost:8080/"
        },
        "id": "7yPg0DrD-nJ8",
        "outputId": "61b2d7e5-88e3-4ad8-edb8-8edc7e56ec86"
      },
      "execution_count": null,
      "outputs": [
        {
          "output_type": "stream",
          "name": "stdout",
          "text": [
            "Pen 10 0\n",
            "Notebook 5 0.2 4.0\n"
          ]
        }
      ]
    },
    {
      "cell_type": "markdown",
      "source": [
        "## Heritage\n",
        "\n",
        "In the example below, both Uno and Ferrari inherit attributes and methods from Car."
      ],
      "metadata": {
        "id": "NGpflfsACJjJ"
      }
    },
    {
      "cell_type": "code",
      "source": [
        "class Car:\n",
        "   def __init__(self):\n",
        "     self.__speed = 0\n",
        "\n",
        "   @property\n",
        "   def speed(self):\n",
        "     return self.__speed\n",
        "\n",
        "   def accelerate(self):\n",
        "     self.__speed += 5\n",
        "     return self.__speed\n",
        "\n",
        "   def brake(self):\n",
        "     self.__speed -= 5\n",
        "     return self.__speed\n",
        "\n",
        "class Uno(Car):\n",
        "   pass\n",
        "\n",
        "class Ferrari(Car):\n",
        "   def accelerate(self):\n",
        "     super().accelerate()\n",
        "     return super().accelerate()\n",
        "\n",
        "c1 = Car()\n",
        "\n",
        "c1.accelerate()\n",
        "print(c1.speed)\n",
        "\n",
        "c1.accelerate()\n",
        "print(c1.speed)\n",
        "\n",
        "c1.accelerate()\n",
        "print(c1.speed)\n",
        "\n",
        "c1.accelerate()\n",
        "print(c1.speed)"
      ],
      "metadata": {
        "colab": {
          "base_uri": "https://localhost:8080/"
        },
        "id": "H_y_2X_vCLIj",
        "outputId": "2b4ef2c8-fd69-4e95-e0e6-29d6c98fb83d"
      },
      "execution_count": null,
      "outputs": [
        {
          "output_type": "stream",
          "name": "stdout",
          "text": [
            "5\n",
            "10\n",
            "15\n",
            "20\n"
          ]
        }
      ]
    },
    {
      "cell_type": "code",
      "source": [
        "c1 = Ferrari()\n",
        "\n",
        "c1.accelerate()\n",
        "print(c1.speed)\n",
        "\n",
        "c1.accelerate()\n",
        "print(c1.speed)\n",
        "\n",
        "c1.accelerate()\n",
        "print(c1.speed)\n",
        "\n",
        "c1.accelerate()\n",
        "print(c1.speed)"
      ],
      "metadata": {
        "colab": {
          "base_uri": "https://localhost:8080/"
        },
        "id": "UCoL3RtPDLH4",
        "outputId": "365e296b-1d2d-4a7a-c12b-f0a1db112faa"
      },
      "execution_count": null,
      "outputs": [
        {
          "output_type": "stream",
          "name": "stdout",
          "text": [
            "10\n",
            "20\n",
            "30\n",
            "40\n"
          ]
        }
      ]
    },
    {
      "cell_type": "markdown",
      "source": [
        "## Membros"
      ],
      "metadata": {
        "id": "WOYEUTKjDVfD"
      }
    },
    {
      "cell_type": "code",
      "source": [
        "class Counter:\n",
        "   counter = 0 # Class attribute\n",
        "\n",
        "   @classmethod\n",
        "   def inc(cls):\n",
        "     cls.counter += 1\n",
        "     return cls.counter\n",
        "\n",
        "   @staticmethod\n",
        "   def more_one(n):\n",
        "     return n + 1\n",
        "\n",
        "print(Counter.inc())\n",
        "print(Counter.inc())\n",
        "print(Counter.inc())\n",
        "print(Counter.more_one(99))"
      ],
      "metadata": {
        "colab": {
          "base_uri": "https://localhost:8080/"
        },
        "id": "rZ31k8O2DZEU",
        "outputId": "2ba4ef2e-a79b-4ab0-d681-d18be538bb6d"
      },
      "execution_count": null,
      "outputs": [
        {
          "output_type": "stream",
          "name": "stdout",
          "text": [
            "1\n",
            "2\n",
            "3\n",
            "100\n"
          ]
        }
      ]
    }
  ]
}