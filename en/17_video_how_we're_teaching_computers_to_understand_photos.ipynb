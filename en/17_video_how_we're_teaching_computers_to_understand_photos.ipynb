{
  "nbformat": 4,
  "nbformat_minor": 0,
  "metadata": {
    "colab": {
      "provenance": []
    },
    "kernelspec": {
      "name": "python3",
      "display_name": "Python 3"
    },
    "language_info": {
      "name": "python"
    }
  },
  "cells": [
    {
      "cell_type": "markdown",
      "source": [
        "# Task proposal\n",
        "\n",
        "Fei-Fei Li's talk on challenges and future goals in the field of computer vision.\n",
        "\n",
        "\n",
        "Video: [Fei-Fei Li: How we're teaching computers to understand photos](https://youtu.be/40riCqvRoMs?si=rQhJSqpLbPZfD-4Y)"
      ],
      "metadata": {
        "id": "yCqfPUGyjbIt"
      }
    },
    {
      "cell_type": "markdown",
      "source": [
        "# How we are teaching computers to understand photos\n",
        "\n",
        "\n",
        "Our society is more technological than ever, and yet a three-year-old child is far ahead of any computer vision model when it comes to identifying objects and items just by looking at an image.\n",
        "\n",
        "\n",
        "An image for a computer is nothing more than numerical values, which lack meaning and meaning. The field of computer vision and machine learning seeks to identify objects and their relationships. Through mathematical terms, learning objects is done by learning their patterns and shapes. For example, a cat has pointy ears and a round face. However, cats can appear in all different ways, even partially hidden. Therefore, there is infinite variance in identifying a cat.\n",
        "\n",
        "\n",
        "A discovery made by Fei-Fei Li was to think that three-year-old children are always learning, with thousands of images at all times while they live. This inspired her to create a dataset with many more images than was common at the time, called imagenet and containing 15 million images. One specific machine learning algorithm showed the greatest improvement with the increase in data volume, this algorithm being the convolutional neural network. With it, objects of different types were found in images, showing a huge evolution.\n",
        "\n",
        "\n",
        "Upon reaching this level of performance, the next objective becomes to identify contexts described in sentences, for example, instead of just noticing a cat in the photo, you can say in a sentence that the cat is on a bed.\n",
        "\n",
        "\n",
        "This task was also covered by Fei-Fei, who managed to make the model capable of producing sentences explaining images, despite having errors in some of them. This research represents the knowledge of a child aged 0 to 3 years, and the next objectives are to cover the knowledge of people aged up to 15 years."
      ],
      "metadata": {
        "id": "KLJNXXoWjvXd"
      }
    }
  ]
}