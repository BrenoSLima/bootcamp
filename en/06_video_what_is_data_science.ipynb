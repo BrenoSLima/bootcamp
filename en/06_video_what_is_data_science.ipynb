{
  "nbformat": 4,
  "nbformat_minor": 0,
  "metadata": {
    "colab": {
      "provenance": []
    },
    "kernelspec": {
      "name": "python3",
      "display_name": "Python 3"
    },
    "language_info": {
      "name": "python"
    }
  },
  "cells": [
    {
      "cell_type": "markdown",
      "source": [
        "# Task proposal\n",
        "\n",
        "What is data science and what does it mean to work with it? The text below discusses this comprehensively, based on two videos.\n",
        "\n",
        "\n",
        "Video 1: [What is data science | Nerdologia Tech](https://youtu.be/ykSILAQQu6o?si=PsVYRlSAPT6FcyNN) (9:29 minutes)\n",
        "\n",
        "Video 2: [What really is Data Science? Explained by a Data Scientist](https://youtu.be/xC-c7E5PK0Y?si=nICHK2SketGh6uHN) (11:08 minutes)"
      ],
      "metadata": {
        "id": "Ah5EQlHHeCYr"
      }
    },
    {
      "cell_type": "markdown",
      "source": [
        "# What is data science | Tech Nerdology\n",
        "\n",
        "\n",
        "Briefly, this branch explores the use of data to 'predict the future'. Nowadays an increasing volume of data is produced, and with current machines, there is the possibility of analyzing this data to extract knowledge and lessons, this being the area of data science.\n",
        "\n",
        "\n",
        "The work of a scientist in this area goes beyond data, there is also the need to know how to ask the right questions. The video mentions the example of Wald's planes, which were analyzed to manufacture coatings against bullets in the war. Wald was able to realize that the shot planes that were analyzed were only able to be analyzed because they returned to base, and the coating should be done in the areas where there were no gunshot holes, as planes that were hit in these regions crashed and were unable to be analyzed.\n",
        "\n",
        "\n",
        "In today's large volume of data, one way to analyze it and extract information is statistics, serving as a mathematical tool that explains and demonstrates how many things happen. Furthermore, in this data it is possible to find patterns that enable future predictions, a work called machine learning.\n",
        "\n",
        "\n",
        "Data carries great importance throughout the training process of a model, it first needs to be clean, that is, without 'errors', to then guarantee good learning for the machine.\n",
        "\n",
        "\n",
        "# What really is Data Science? Explained by a Data Scientist\n",
        "\n",
        "\n",
        "Data science is the process of using data to create the maximum possible impact for a company. This impact can come in the form of insights, data products, or product recommendations. To achieve this, data scientists can use tools such as models, data visualizations, or code. The focus must always be on solving the company's real problems.\n",
        "\n",
        "\n",
        "Being a good data scientist means solving problems, being a strategist, and having a significant impact on a company. The rise of big data and web 2.0 has led to the emergence of data science, which combines computer science with data mining to extract actionable insights from large sets of unstructured data. Overall, data science is a field that encompasses the collection, analysis, and modeling of data, with applications across a wide range of industries.\n",
        "\n",
        "\n",
        "For companies of different sizes there are different conceptions of a data scientist, the role to play can vary from data collection, to training deep learning models, where in a startup a data scientist could do everything, in one large company he can take care of just one task like creating models."
      ],
      "metadata": {
        "id": "5p_gskIdYa21"
      }
    }
  ]
}