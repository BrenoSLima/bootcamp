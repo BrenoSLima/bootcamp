{
  "nbformat": 4,
  "nbformat_minor": 0,
  "metadata": {
    "colab": {
      "provenance": []
    },
    "kernelspec": {
      "name": "python3",
      "display_name": "Python 3"
    },
    "language_info": {
      "name": "python"
    }
  },
  "cells": [
    {
      "cell_type": "markdown",
      "source": [
        "# Task proposal\n",
        "\n",
        "Important concepts of early machine learning algorithms and their main concepts and applications.\n",
        "\n",
        "Course: [Machine Learning, Data Science and Generative AI with Python](https://www.udemy.com/course/data-science-and-machine-learning-with-python-hands-on/?couponCode=ST7MT41824)\n",
        "\n",
        "\n",
        "Sections: Predictive Models; Machine Learning with Python. (2 hours and 20 minutes)"
      ],
      "metadata": {
        "id": "66Y-o1UfgDD_"
      }
    },
    {
      "cell_type": "markdown",
      "source": [
        "# Predictive models\n",
        "\n",
        "These are models with the function of learning from data and predicting new cases not yet seen by the model.\n",
        "\n",
        "## Linear regression\n",
        "\n",
        "The goal is to find the best straight line that fits the data, minimizing the difference between actual values and predicted values.\n",
        "\n",
        "The R-squared coefficient indicates how much the variation in the values predicted by the model adjusts to the variation in the actual data.\n",
        "\n",
        "Can be used by scipy stats."
      ],
      "metadata": {
        "id": "_AlPhrg9NIvJ"
      }
    },
    {
      "cell_type": "code",
      "source": [
        "stats.linregress()"
      ],
      "metadata": {
        "id": "DtKhHSpSSb4F"
      },
      "execution_count": null,
      "outputs": []
    },
    {
      "cell_type": "markdown",
      "source": [
        "## Polynomial regression\n",
        "\n",
        "\n",
        "It is an extension of linear regression that allows you to model non-linear relationships between variables. Instead of fitting a straight line to the data, it fits a polynomial of higher degree, like a curve. This is useful when the relationship between variables cannot be represented linearly.\n",
        "\n",
        "\n",
        "One of the things to consider using this model is overfitting, avoiding using more degrees than necessary in the polynomial.\n",
        "\n",
        "\n",
        "In Python, the numpy library is used for this."
      ],
      "metadata": {
        "id": "N-gTMWX0Sbld"
      }
    },
    {
      "cell_type": "code",
      "source": [
        "numpy.polyfit()"
      ],
      "metadata": {
        "id": "QbCLMEXPSQS2"
      },
      "execution_count": null,
      "outputs": []
    },
    {
      "cell_type": "markdown",
      "source": [
        "## Multiple regression\n",
        "\n",
        "Deals with multiple independent variables to predict a dependent variable. It is an extension of simple linear regression and is used when there is more than one variable that affects the dependent variable. Each independent variable contributes a coefficient to the prediction equation.\n",
        "\n",
        "In python used by the statsmodel package."
      ],
      "metadata": {
        "id": "0FcDaTEEUwE3"
      }
    },
    {
      "cell_type": "code",
      "source": [
        "statsmodels.add_contant()\n",
        "statsmodels.api.OLS().fit"
      ],
      "metadata": {
        "id": "5N2axhnXWuEz"
      },
      "execution_count": null,
      "outputs": []
    },
    {
      "cell_type": "markdown",
      "source": [
        "This trained model allows you to look at the coefficient results table and extract more interpretations about the problem.\n",
        "\n",
        "\n",
        "In short, it applies different linear regressions to different features at the same time, and associates a coefficient for each one.\n",
        "\n",
        "\n",
        "# Multi-Level models\n",
        "\n",
        "\n",
        "Multilevel models are used when data has a hierarchical structure. They allow you to model variations both within groups and between groups, thus capturing the complexity of the data.\n",
        "\n",
        "\n",
        "# Supervised vs. Unsupervised Learning\n",
        "\n",
        "\n",
        "Machine learning models are algorithms that learn based on the training data provided. There are two ways to do this.\n",
        "\n",
        "\n",
        "## Unsupervised learning\n",
        "\n",
        "\n",
        "The data provided to it does not have a label, that is, there is no answer for the model to base itself on and draw patterns from something. The model will have if just looking at the distribution of the data create patterns/groups in it.\n",
        "\n",
        "\n",
        "## Supervised learning\n",
        "\n",
        "\n",
        "For supervised learning, the model will learn patterns based on already identified data, enabling it to predict new cases responding to a problem, as it has a label to respond to.\n",
        "\n",
        "\n",
        "### Train test split\n",
        "\n",
        "\n",
        "For supervised models, there is the possibility of checking how much they are learning by comparing the model with new cases and measuring how well it performs. For this, the data is divided into training data and test data.\n",
        "\n",
        "\n",
        "# Bayesian methods\n",
        "\n",
        "\n",
        "## Naive Bayes\n",
        "\n",
        "\n",
        "It learns the conditional probabilities of features with respect to classes and uses them to classify new data.\n",
        "\n",
        "\n",
        "# K-means\n",
        "\n",
        "\n",
        "It aims to divide a set of data into groups (clusters) based on similarities between data points. The algorithm starts with choosing a number K of clusters and assigns data points to the clusters in order to minimize the distance between points within the same cluster.\n",
        "\n",
        "\n",
        "Performs better on normalized data.\n",
        "\n",
        "\n",
        "# Entropy\n",
        "\n",
        "\n",
        "A way of measuring the disorder of a dataset, that is, how similar or different the data are.\n",
        "\n",
        "\n",
        "Entropy increases as the classes present in the data increase.\n",
        "\n",
        "\n",
        "# Decision tree\n",
        "\n",
        "\n",
        "Makes decisions based on logical conditions, dividing a set of data into branches that lead to different results. Each node in the tree represents a choice between several options, and the leaves represent the final results or desired classifications. To choose branches, the tree first chooses the one that will make its children have the least possible entropy.\n",
        "\n",
        "\n",
        "## Random forest\n",
        "\n",
        "\n",
        "The problem with this model is overfitting. Trees can stretch until they perfectly fit the input data. A solution for this is the random forest algorithm, which creates a set of decision trees with a random appearance, that is, attributes with more classes are higher up in the tree.\n",
        "\n",
        "\n",
        "# Ensemble Learning\n",
        "\n",
        "\n",
        "The act of considering different machine learning models simultaneously to generate an answer/prediction.\n",
        "\n",
        "\n",
        "##XGBosst\n",
        "\n",
        "\n",
        "It works sequentially, training several decision trees in series. Each tree is adjusted to correct errors. Predictions from all trees are combined, usually using a weighted average, to produce the final result. This results in a robust and accurate model capable of handling a variety of machine learning problems.\n",
        "\n",
        "\n",
        "# Support Vector Machine\n",
        "\n",
        "\n",
        "Algorithm that finds a hyperplane that maximizes the margin between different classes of data, dividing them. Therefore, it is used in classification problems\n",
        "\n",
        "\n",
        "Good for cases with data in many dimensions"
      ],
      "metadata": {
        "id": "pPiSJUzQYWmG"
      }
    }
  ]
}