{
  "nbformat": 4,
  "nbformat_minor": 0,
  "metadata": {
    "colab": {
      "provenance": []
    },
    "kernelspec": {
      "name": "python3",
      "display_name": "Python 3"
    },
    "language_info": {
      "name": "python"
    }
  },
  "cells": [
    {
      "cell_type": "markdown",
      "source": [
        "# Task proposal\n",
        "\n",
        "\n",
        "Functionalities of Jupyter Notebook, Jupyter Lab and Ipython.\n",
        "\n",
        "\n",
        "Video: [Jupyter Notebook Complete Beginner Guide - From Jupyter to Jupyterlab, Google Colab and Kaggle!](https://youtu.be/5pf0_bpNbkw?si=bXNpNk1ROwbzgxEh) (25:11 minutes)"
      ],
      "metadata": {
        "id": "AZ-aNxXCekyN"
      }
    },
    {
      "cell_type": "markdown",
      "source": [
        "# Introduction to Jupyter Notebooks\n",
        "\n",
        "\n",
        "In this video, Rob introduces Jupiter Notebooks and explains its importance for data scientists who code in Python.\n",
        "\n",
        "\n",
        "The video covers how to use Jupiter Notebooks on a local machine, as well as some cloud environments that provide Jupiter Notebooks.\n",
        "\n",
        "\n",
        "# Usefulness of Jupyter Notebook\n",
        "\n",
        "\n",
        "Before diving into Jupiter Notebooks, it's important to understand why they are useful. Python commands can be entered directly into any terminal on a computer running Linux, macOS, or PowerShell on Windows.\n",
        "However, the terminal is not ideal for anything other than typing one line of code at a time. Writing scripts allows for longer and more complex code execution.\n",
        "\n",
        "\n",
        "# Introduction to IPython\n",
        "\n",
        "\n",
        "IPython is presented as an extension to Python that provides additional functionality.\n",
        "\n",
        "\n",
        "IPython offers features like syntax highlighting and autocompletion.\n",
        "It was developed to make Python more interactive and easier to use. Therefore, Jupiter Notebooks were built using IPython.\n",
        "\n",
        "\n",
        "# Running Jupyter Notebook locally\n",
        "\n",
        "\n",
        "To run Jupiter Notebooks locally:\n",
        "\n",
        "\n",
        "Install Jupyter Notebook or Jupyter Lab using pip install jupyter or pip install jupyterlab.\n",
        "Open the terminal and type jupyter notebook or jupyter lab.\n",
        "A new window will open in your web browser, displaying the Jupyter Notebook interface.\n",
        "Files in the current directory can be accessed and edited in Jupyter Notebooks.\n",
        "\n",
        "\n",
        "# Introduction to Jupyter Lab\n",
        "\n",
        "\n",
        "Jupiter Lab is presented as the latest version of Jupiter Notebooks with additional features.\n",
        "\n",
        "\n",
        "Jupiter Lab offers a more advanced file browsing experience compared to Jupiter Notebooks, including features such as a run tab for managing notebooks and kernels. Extensions can also be added, such as to make the page theme dark.\n",
        "\n",
        "\n",
        "Keyboard commands and shortcuts that can speed up workflow on Jupiter Notebooks will also be discussed.\n",
        "\n",
        "\n",
        "#Components of a Jupyter Notebook\n",
        "\n",
        "\n",
        "Code Cells: You can write code in individual cells and run them separately. This facilitates incremental development and experimentation.\n",
        "\n",
        "\n",
        "Markdown Cells: In addition to code, you can add text cells in Markdown format to document your work. This is useful for explaining what your code does, providing instructions and insights.\n",
        "\n",
        "\n",
        "# Conclusion\n",
        "\n",
        "\n",
        "In short, Jupyter Notebooks are interactive development environments that allow you to create and share documents that contain code, explanatory text, visualizations, and results."
      ],
      "metadata": {
        "id": "GhfaHtcNjZxH"
      }
    }
  ]
}