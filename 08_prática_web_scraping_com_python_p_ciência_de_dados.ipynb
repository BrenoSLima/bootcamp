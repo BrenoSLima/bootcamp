{
  "nbformat": 4,
  "nbformat_minor": 0,
  "metadata": {
    "colab": {
      "provenance": []
    },
    "kernelspec": {
      "name": "python3",
      "display_name": "Python 3"
    },
    "language_info": {
      "name": "python"
    }
  },
  "cells": [
    {
      "cell_type": "markdown",
      "source": [
        "# Proposta da tarefa\n",
        "\n",
        "\n",
        "Conceitos importantes sobre coleta de dados web ou raspagem web. Extração de dados de sites da web convertendo-os em informação estruturada para posterior análise.\n",
        "\n",
        "\n",
        "Minicurso: [Web Scraping with Python - Beautiful Soup Crash Course](https://youtu.be/XVv6mJpFOb0?si=WXZMxP_S6vHptPLX) (1 hora e 38 minutos)\n"
      ],
      "metadata": {
        "id": "q8ht44dGe2hB"
      }
    },
    {
      "cell_type": "markdown",
      "source": [
        "\n",
        "\n",
        "# Visão geral de scripts da Web com Beautiful Soup\n",
        "\n",
        "\n",
        "O vídeo irá ensinar web scripting usando a biblioteca Beautiful Soup. Ela permite coletar informações de qualquer site. São mencionados exemplos de sites que podem ser copiados como: contas bancárias, sites de empregos como LinkedIn, Wikipedia e sites de esportes.\n",
        "\n",
        "\n",
        "# Compreendendo a estrutura HTML\n",
        "\n",
        "\n",
        "Os sites são montados a partir de tags HTML. O vídeo apresenta um exemplo de página da web e explica sua estrutura. A partir da hierarquias de diferentes tags, onde cada uma tem sua funcionalidade, uma página é criada.\n",
        "\n",
        "\n",
        "# Analisando o texto HTML\n",
        "\n",
        "\n",
        "A instância BeautifulSoup é criada no código e é fornecida a leitura do arquivo HTML. A partir da mesma instância, métodos como find e find_all podem ser usados para pesquisar tags específicas, como por exemplo tags 'h5' que contém títulos de uma página.\n",
        "\n",
        "\n",
        "Sites da vida real podem ter suas estruturas bem complexas e difíceis de se extrais informação. Visto isso, uma forma de melhorar uma pesquisa, é entender quais classes ou ids que uma tag HTML está usando.\n",
        "\n",
        "\n",
        "# Uso da Beautiful Soup\n",
        "\n",
        "\n",
        "É importante ressaltar a facilidade do uso da Beautiful Soup, a partir da pesquisa de uma tag, ela irá retornar um objeto, o qual irá representar toda a tag pesquisada, significando que a partir do objeto, pode-se acessar tags internas. Um objeto obj que recebeu uma 'div', pode desempenhar obj.h5 caso haja alguma tag 'h5' dentro da div no código HTML.\n",
        "\n",
        "\n",
        "# Sites reais\n",
        "\n",
        "\n",
        "O primeiro passo para trabalhar com sites é garantir que o seu código consiga fazer uma requisição para um site. No vídeo é mostrada a biblioteca Requests para tal.\n",
        "\n",
        "\n",
        "# Filtrando Postagens de Emprego\n",
        "\n",
        "\n",
        "O programa feito filtra os posts de trabalho com base em determinados critérios, como habilidades exigidas ou data de publicação. Tais critério podem ser encontrados no HTML via a inspeção de elementos do browser, sendo essa uma forma mais fácil de se trabalhar com o scrapping.\n",
        "\n",
        "\n",
        "Filtragem adicional pode ser aplicada pesquisando palavras-chave específicas no conteúdo do anúncio de emprego.\n",
        "\n",
        "\n",
        "# Melhorando o Programa\n",
        "\n",
        "\n",
        "O programa pode ser aprimorado adicionando funcionalidades como executá-lo em intervalos regulares e salvar os resultados em um arquivo.\n",
        "\n",
        "\n",
        "A entrada do usuário pode ser usada para filtrar ofertas de emprego com base em habilidades desconhecidas.\n",
        "\n",
        "\n",
        "# Conclusão\n",
        "\n",
        "\n",
        "Em resumo a Beautiful Soup permite o web scraping de forma simples e intuitiva, ferramenta essa que gera muito valor uma vez vista em contexto de análise de dados, fornecendo mais uma possibilidade de extrair recursos e informações para serem analisadas.\n",
        "\n",
        "\n",
        "\n",
        "\n",
        "\n"
      ],
      "metadata": {
        "id": "PkLJrZBVq6vJ"
      }
    }
  ]
}